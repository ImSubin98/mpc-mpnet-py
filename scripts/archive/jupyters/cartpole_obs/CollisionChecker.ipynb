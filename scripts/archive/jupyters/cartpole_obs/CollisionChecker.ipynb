{
 "cells": [
  {
   "cell_type": "code",
   "execution_count": 22,
   "metadata": {},
   "outputs": [],
   "source": [
    "import numpy as np\n",
    "import math\n",
    "size = 2\n",
    "\n",
    "# obc = np.array([\\ # for env_id\n",
    "#                 [\\ # obs_i\n",
    "#                  [1, 1, ], \n",
    "#                  [0, 0]]])\n",
    "\n",
    "def overlap(b1corner,b1axis,b1orign,b2corner,b2axis,b2orign):\n",
    "    for a in range(0,2):\n",
    "        t=b1corner[0][0]*b2axis[a][0]+b1corner[0][1]*b2axis[a][1]\n",
    "        tMin = t\n",
    "        tMax = t\n",
    "        for c in range(1,4):\n",
    "            t = b1corner[c][0]*b2axis[a][0]+b1corner[c][1]*b2axis[a][1]\n",
    "            if t < tMin:\n",
    "                tMin = t\n",
    "            elif t > tMax:\n",
    "                tMax = t\n",
    "        if ((tMin > (1+ b2orign[a])) or (tMax < b2orign[a])):\n",
    "            return False\n",
    "    return True\n",
    "\n",
    "def IsInCollision(stateIn, idx):\n",
    "    robot_corner=np.zeros((4,2),dtype=np.float32)\n",
    "    robot_axis=np.zeros((2,2),dtype=np.float32)\n",
    "    robot_orign=np.zeros(2,dtype=np.float32)\n",
    "    length=np.zeros(2,dtype=np.float32)\n",
    "    X1=np.zeros(2,dtype=np.float32)\n",
    "    Y1=np.zeros(2,dtype=np.float32)\n",
    "    \n",
    "    # started to get robot corners\n",
    "    X1[0]=math.cos(stateIn[2])*(2.0/2.0)\n",
    "    X1[1]=-math.sin(stateIn[2])*(2.0/2.0)\n",
    "    Y1[0]=math.sin(stateIn[2])*(5.0/2.0)\n",
    "    Y1[1]=math.cos(stateIn[2])*(5.0/2.0)\n",
    "    for j in range(0,2):\n",
    "        robot_corner[0][j]=stateIn[j]-X1[j]-Y1[j]\n",
    "        robot_corner[1][j]=stateIn[j]+X1[j]-Y1[j]\n",
    "        robot_corner[2][j]=stateIn[j]+X1[j]+Y1[j]\n",
    "        robot_corner[3][j]=stateIn[j]-X1[j]+Y1[j]\n",
    "        robot_axis[0][j] = robot_corner[1][j] - robot_corner[0][j]\n",
    "        robot_axis[1][j] = robot_corner[3][j] - robot_corner[0][j]\n",
    "    length[0]=robot_axis[0][0]*robot_axis[0][0]+robot_axis[0][1]*robot_axis[0][1]\n",
    "    length[1]=robot_axis[1][0]*robot_axis[1][0]+robot_axis[1][1]*robot_axis[1][1]\n",
    "    print( \"robot cornor\")\n",
    "    for i in range(0,4):\n",
    "        print(\"(\"+str(robot_corner[i][0])+\",\"+str(robot_corner[i][1])+\")\")\n",
    "    for i in range(0,2):\n",
    "        for j in range(0,2):\n",
    "            robot_axis[i][j]=robot_axis[i][j]/float(length[j])\n",
    "    # got robot_cornors\n",
    "    print(robot_axis)\n",
    "\n",
    "    robot_orign[0]=robot_corner[0][0]*robot_axis[0][0]+ robot_corner[0][1]*robot_axis[0][1]\n",
    "    robot_orign[1]=robot_corner[0][0]*robot_axis[1][0]+ robot_corner[0][1]*robot_axis[1][1]\n",
    "    for i in range(0,7):\n",
    "        cf=True\n",
    "        obs_corner=np.zeros((4,2),dtype=np.float32)\n",
    "        obs_axis=np.zeros((2,2),dtype=np.float32)\n",
    "        obs_orign=np.zeros(2,dtype=np.float32)\n",
    "        X=np.zeros(2,dtype=np.float32)\n",
    "        Y=np.zeros(2,dtype=np.float32)\n",
    "        length2=np.zeros(2,dtype=np.float32)\n",
    "        \n",
    "        X[0]=1.0*size/2.0\n",
    "        X[1]=0.0\n",
    "        Y[0]=0.0\n",
    "        Y[1]=1.0*size/2.0\n",
    "        for j in range(0,2):\n",
    "            obs_corner[0][j]=obc[idx][i][j]-X[j]-Y[j]\n",
    "            obs_corner[1][j]=obc[idx][i][j]+X[j]-Y[j]\n",
    "            obs_corner[2][j]=obc[idx][i][j]+X[j]+Y[j]\n",
    "            obs_corner[3][j]=obc[idx][i][j]-X[j]+Y[j]\n",
    "            obs_axis[0][j] = obs_corner[1][j] - obs_corner[0][j]\n",
    "            obs_axis[1][j] = obs_corner[3][j] - obs_corner[0][j]\n",
    "        length2[0]=obs_axis[0][0]*obs_axis[0][0]+obs_axis[0][1]*obs_axis[0][1]\n",
    "        length2[1]=obs_axis[1][0]*obs_axis[1][0]+obs_axis[1][1]*obs_axis[1][1]\n",
    "        for i1 in range(0,2):\n",
    "            for j1 in range(0,2):\n",
    "                obs_axis[i1][j1]=obs_axis[i1][j1]/float(length2[j1])\n",
    "        obs_orign[0]=obs_corner[0][0]*obs_axis[0][0]+ obs_corner[0][1]*obs_axis[0][1]\n",
    "        obs_orign[1]=obs_corner[0][0]*obs_axis[1][0]+ obs_corner[0][1]*obs_axis[1][1]\n",
    "        cf=overlap(robot_corner,robot_axis,robot_orign,obs_corner,obs_axis,obs_orign)\n",
    "        if cf==True:\n",
    "            return True\n",
    "    return False"
   ]
  },
  {
   "cell_type": "code",
   "execution_count": 23,
   "metadata": {},
   "outputs": [
    {
     "name": "stdout",
     "output_type": "stream",
     "text": [
      "robot cornor\n",
      "(-2.5,1.0)\n",
      "(-2.5,-1.0)\n",
      "(2.5,-1.0)\n",
      "(2.5,1.0)\n",
      "[[ 0.   -0.08]\n",
      " [ 1.25  0.  ]]\n"
     ]
    },
    {
     "ename": "IndexError",
     "evalue": "invalid index to scalar variable.",
     "output_type": "error",
     "traceback": [
      "\u001b[0;31m---------------------------------------------------------------------------\u001b[0m",
      "\u001b[0;31mIndexError\u001b[0m                                Traceback (most recent call last)",
      "\u001b[0;32m<ipython-input-23-106d0e504eac>\u001b[0m in \u001b[0;36m<module>\u001b[0;34m\u001b[0m\n\u001b[1;32m      1\u001b[0m \u001b[0mstateIn\u001b[0m \u001b[0;34m=\u001b[0m \u001b[0mnp\u001b[0m\u001b[0;34m.\u001b[0m\u001b[0marray\u001b[0m\u001b[0;34m(\u001b[0m\u001b[0;34m[\u001b[0m\u001b[0;36m0\u001b[0m\u001b[0;34m,\u001b[0m \u001b[0;36m0\u001b[0m\u001b[0;34m,\u001b[0m \u001b[0mnp\u001b[0m\u001b[0;34m.\u001b[0m\u001b[0mpi\u001b[0m\u001b[0;34m/\u001b[0m\u001b[0;36m2\u001b[0m\u001b[0;34m]\u001b[0m\u001b[0;34m)\u001b[0m\u001b[0;34m\u001b[0m\u001b[0;34m\u001b[0m\u001b[0m\n\u001b[0;32m----> 2\u001b[0;31m \u001b[0mIsInCollision\u001b[0m\u001b[0;34m(\u001b[0m\u001b[0mstateIn\u001b[0m\u001b[0;34m,\u001b[0m \u001b[0;36m0\u001b[0m\u001b[0;34m)\u001b[0m\u001b[0;34m\u001b[0m\u001b[0;34m\u001b[0m\u001b[0m\n\u001b[0m",
      "\u001b[0;32m<ipython-input-22-6bb25d093519>\u001b[0m in \u001b[0;36mIsInCollision\u001b[0;34m(stateIn, idx)\u001b[0m\n\u001b[1;32m     70\u001b[0m         \u001b[0mY\u001b[0m\u001b[0;34m[\u001b[0m\u001b[0;36m1\u001b[0m\u001b[0;34m]\u001b[0m\u001b[0;34m=\u001b[0m\u001b[0;36m1.0\u001b[0m\u001b[0;34m*\u001b[0m\u001b[0msize\u001b[0m\u001b[0;34m/\u001b[0m\u001b[0;36m2.0\u001b[0m\u001b[0;34m\u001b[0m\u001b[0;34m\u001b[0m\u001b[0m\n\u001b[1;32m     71\u001b[0m         \u001b[0;32mfor\u001b[0m \u001b[0mj\u001b[0m \u001b[0;32min\u001b[0m \u001b[0mrange\u001b[0m\u001b[0;34m(\u001b[0m\u001b[0;36m0\u001b[0m\u001b[0;34m,\u001b[0m\u001b[0;36m2\u001b[0m\u001b[0;34m)\u001b[0m\u001b[0;34m:\u001b[0m\u001b[0;34m\u001b[0m\u001b[0;34m\u001b[0m\u001b[0m\n\u001b[0;32m---> 72\u001b[0;31m             \u001b[0mobs_corner\u001b[0m\u001b[0;34m[\u001b[0m\u001b[0;36m0\u001b[0m\u001b[0;34m]\u001b[0m\u001b[0;34m[\u001b[0m\u001b[0mj\u001b[0m\u001b[0;34m]\u001b[0m\u001b[0;34m=\u001b[0m\u001b[0mobc\u001b[0m\u001b[0;34m[\u001b[0m\u001b[0midx\u001b[0m\u001b[0;34m]\u001b[0m\u001b[0;34m[\u001b[0m\u001b[0mi\u001b[0m\u001b[0;34m]\u001b[0m\u001b[0;34m[\u001b[0m\u001b[0mj\u001b[0m\u001b[0;34m]\u001b[0m\u001b[0;34m-\u001b[0m\u001b[0mX\u001b[0m\u001b[0;34m[\u001b[0m\u001b[0mj\u001b[0m\u001b[0;34m]\u001b[0m\u001b[0;34m-\u001b[0m\u001b[0mY\u001b[0m\u001b[0;34m[\u001b[0m\u001b[0mj\u001b[0m\u001b[0;34m]\u001b[0m\u001b[0;34m\u001b[0m\u001b[0;34m\u001b[0m\u001b[0m\n\u001b[0m\u001b[1;32m     73\u001b[0m             \u001b[0mobs_corner\u001b[0m\u001b[0;34m[\u001b[0m\u001b[0;36m1\u001b[0m\u001b[0;34m]\u001b[0m\u001b[0;34m[\u001b[0m\u001b[0mj\u001b[0m\u001b[0;34m]\u001b[0m\u001b[0;34m=\u001b[0m\u001b[0mobc\u001b[0m\u001b[0;34m[\u001b[0m\u001b[0midx\u001b[0m\u001b[0;34m]\u001b[0m\u001b[0;34m[\u001b[0m\u001b[0mi\u001b[0m\u001b[0;34m]\u001b[0m\u001b[0;34m[\u001b[0m\u001b[0mj\u001b[0m\u001b[0;34m]\u001b[0m\u001b[0;34m+\u001b[0m\u001b[0mX\u001b[0m\u001b[0;34m[\u001b[0m\u001b[0mj\u001b[0m\u001b[0;34m]\u001b[0m\u001b[0;34m-\u001b[0m\u001b[0mY\u001b[0m\u001b[0;34m[\u001b[0m\u001b[0mj\u001b[0m\u001b[0;34m]\u001b[0m\u001b[0;34m\u001b[0m\u001b[0;34m\u001b[0m\u001b[0m\n\u001b[1;32m     74\u001b[0m             \u001b[0mobs_corner\u001b[0m\u001b[0;34m[\u001b[0m\u001b[0;36m2\u001b[0m\u001b[0;34m]\u001b[0m\u001b[0;34m[\u001b[0m\u001b[0mj\u001b[0m\u001b[0;34m]\u001b[0m\u001b[0;34m=\u001b[0m\u001b[0mobc\u001b[0m\u001b[0;34m[\u001b[0m\u001b[0midx\u001b[0m\u001b[0;34m]\u001b[0m\u001b[0;34m[\u001b[0m\u001b[0mi\u001b[0m\u001b[0;34m]\u001b[0m\u001b[0;34m[\u001b[0m\u001b[0mj\u001b[0m\u001b[0;34m]\u001b[0m\u001b[0;34m+\u001b[0m\u001b[0mX\u001b[0m\u001b[0;34m[\u001b[0m\u001b[0mj\u001b[0m\u001b[0;34m]\u001b[0m\u001b[0;34m+\u001b[0m\u001b[0mY\u001b[0m\u001b[0;34m[\u001b[0m\u001b[0mj\u001b[0m\u001b[0;34m]\u001b[0m\u001b[0;34m\u001b[0m\u001b[0;34m\u001b[0m\u001b[0m\n",
      "\u001b[0;31mIndexError\u001b[0m: invalid index to scalar variable."
     ]
    }
   ],
   "source": [
    "stateIn = np.array([0, 0, np.pi/2])\n",
    "IsInCollision(stateIn, 0)"
   ]
  },
  {
   "cell_type": "code",
   "execution_count": 14,
   "metadata": {},
   "outputs": [
    {
     "data": {
      "text/plain": [
       "array([1, 1])"
      ]
     },
     "execution_count": 14,
     "metadata": {},
     "output_type": "execute_result"
    }
   ],
   "source": [
    "obc[0]"
   ]
  },
  {
   "cell_type": "code",
   "execution_count": null,
   "metadata": {},
   "outputs": [],
   "source": []
  }
 ],
 "metadata": {
  "kernelspec": {
   "display_name": "Python 3",
   "language": "python",
   "name": "python3"
  },
  "language_info": {
   "codemirror_mode": {
    "name": "ipython",
    "version": 3
   },
   "file_extension": ".py",
   "mimetype": "text/x-python",
   "name": "python",
   "nbconvert_exporter": "python",
   "pygments_lexer": "ipython3",
   "version": "3.7.6"
  }
 },
 "nbformat": 4,
 "nbformat_minor": 4
}
